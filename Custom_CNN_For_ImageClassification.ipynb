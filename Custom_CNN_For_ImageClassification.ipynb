{
 "cells": [
  {
   "metadata": {},
   "cell_type": "raw",
   "source": "# Imports",
   "id": "60d526db36bacc5e"
  },
  {
   "metadata": {
    "ExecuteTime": {
     "end_time": "2025-05-31T05:16:46.103552Z",
     "start_time": "2025-05-31T05:16:46.083437Z"
    }
   },
   "cell_type": "code",
   "source": [
    "import torch\n",
    "import torch.nn as nn\n",
    "import torch.optim as optim\n",
    "import torch.nn.functional as F\n",
    "from torch.utils.data import TensorDataset, DataLoader, random_split\n",
    "import torch.backends.cudnn as cudnn\n",
    "\n",
    "import torchvision\n",
    "from torchvision import transforms as T\n",
    "from torchvision.datasets import CIFAR10\n",
    "\n",
    "from sklearn.model_selection import train_test_split\n",
    "import matplotlib.pyplot as plt\n",
    "import numpy as np\n",
    "\n",
    "from torchmetrics import Accuracy\n",
    "from tqdm import tqdm"
   ],
   "id": "e7675eae9e50227b",
   "outputs": [],
   "execution_count": 78
  },
  {
   "metadata": {
    "ExecuteTime": {
     "end_time": "2025-05-31T05:16:46.158794Z",
     "start_time": "2025-05-31T05:16:46.133383Z"
    }
   },
   "cell_type": "code",
   "source": [
    "transform_train = T.Compose([\n",
    "    T.ToTensor(),\n",
    "    T.Normalize(mean=[0.4914, 0.4822, 0.4465], std=[0.2023, 0.1994, 0.2010]),\n",
    "])"
   ],
   "id": "6d3ae6558642c319",
   "outputs": [],
   "execution_count": 79
  },
  {
   "metadata": {
    "ExecuteTime": {
     "end_time": "2025-05-31T05:16:47.511429Z",
     "start_time": "2025-05-31T05:16:46.183847Z"
    }
   },
   "cell_type": "code",
   "source": [
    "train_set = CIFAR10(root='cifar10',\n",
    "                    train=True,\n",
    "                    download=True,\n",
    "                    transform=transform_train)"
   ],
   "id": "f1ff74c2973e0a71",
   "outputs": [
    {
     "name": "stdout",
     "output_type": "stream",
     "text": [
      "Files already downloaded and verified\n"
     ]
    }
   ],
   "execution_count": 80
  },
  {
   "metadata": {
    "ExecuteTime": {
     "end_time": "2025-05-31T05:16:48.433351Z",
     "start_time": "2025-05-31T05:16:47.513630Z"
    }
   },
   "cell_type": "code",
   "source": [
    "test_set = CIFAR10(root='cifar10',\n",
    "                   train=False,\n",
    "                   download=True,\n",
    "                   transform=transform_train)"
   ],
   "id": "eb80573bdee9874d",
   "outputs": [
    {
     "name": "stdout",
     "output_type": "stream",
     "text": [
      "Files already downloaded and verified\n"
     ]
    }
   ],
   "execution_count": 81
  },
  {
   "metadata": {
    "ExecuteTime": {
     "end_time": "2025-05-31T05:16:48.473628Z",
     "start_time": "2025-05-31T05:16:48.446672Z"
    }
   },
   "cell_type": "code",
   "source": "train_set",
   "id": "8174763bbe1566d0",
   "outputs": [
    {
     "data": {
      "text/plain": [
       "Dataset CIFAR10\n",
       "    Number of datapoints: 50000\n",
       "    Root location: cifar10\n",
       "    Split: Train\n",
       "    StandardTransform\n",
       "Transform: Compose(\n",
       "               ToTensor()\n",
       "               Normalize(mean=[0.4914, 0.4822, 0.4465], std=[0.2023, 0.1994, 0.201])\n",
       "           )"
      ]
     },
     "execution_count": 82,
     "metadata": {},
     "output_type": "execute_result"
    }
   ],
   "execution_count": 82
  },
  {
   "metadata": {
    "ExecuteTime": {
     "end_time": "2025-05-31T05:16:48.543414Z",
     "start_time": "2025-05-31T05:16:48.518711Z"
    }
   },
   "cell_type": "code",
   "source": "train_set[12][0]",
   "id": "f126f92c6ccf2197",
   "outputs": [
    {
     "data": {
      "text/plain": [
       "tensor([[[ 0.7501,  0.7113,  0.7113,  ...,  0.6144,  0.5368,  0.5368],\n",
       "         [ 0.8276,  0.7888,  0.7888,  ...,  0.7501,  0.6725,  0.6338],\n",
       "         [ 0.9051,  0.8664,  0.8858,  ...,  0.8276,  0.7694,  0.7307],\n",
       "         ...,\n",
       "         [-0.0447, -0.1610, -0.2580,  ..., -0.1610, -0.5875, -0.1029],\n",
       "         [-0.1029, -0.1804, -0.2580,  ...,  0.0134, -0.1029, -0.1029],\n",
       "         [-0.0835, -0.1029, -0.1804,  ..., -0.0253, -0.0253, -0.1029]],\n",
       "\n",
       "        [[ 1.8101,  1.7511,  1.7511,  ...,  1.7118,  1.6724,  1.5741],\n",
       "         [ 1.8691,  1.8101,  1.8101,  ...,  1.7511,  1.6921,  1.6134],\n",
       "         [ 1.9085,  1.8495,  1.8691,  ...,  1.7511,  1.6724,  1.6528],\n",
       "         ...,\n",
       "         [ 0.7284,  0.6104,  0.5121,  ...,  0.2564, -0.1566,  0.5121],\n",
       "         [ 0.6498,  0.5514,  0.4728,  ...,  0.5121,  0.4138,  0.5711],\n",
       "         [ 0.6104,  0.5711,  0.4924,  ...,  0.5711,  0.6104,  0.6104]],\n",
       "\n",
       "        [[ 2.5391,  2.4611,  2.4611,  ...,  2.4025,  2.3635,  2.3440],\n",
       "         [ 2.5586,  2.5001,  2.5001,  ...,  2.4221,  2.3830,  2.3635],\n",
       "         [ 2.5781,  2.5196,  2.5391,  ...,  2.4221,  2.3635,  2.3830],\n",
       "         ...,\n",
       "         [-0.1728, -0.2313, -0.2899,  ..., -0.2704, -0.6801, -0.2704],\n",
       "         [-0.2704, -0.2899, -0.3484,  ..., -0.0753, -0.2118, -0.2509],\n",
       "         [-0.3484, -0.2899, -0.3289,  ..., -0.1143, -0.1338, -0.2704]]])"
      ]
     },
     "execution_count": 83,
     "metadata": {},
     "output_type": "execute_result"
    }
   ],
   "execution_count": 83
  },
  {
   "metadata": {
    "ExecuteTime": {
     "end_time": "2025-05-31T05:16:48.633357Z",
     "start_time": "2025-05-31T05:16:48.603308Z"
    }
   },
   "cell_type": "code",
   "source": "train_set[12]",
   "id": "d79228901e8c5f5",
   "outputs": [
    {
     "data": {
      "text/plain": [
       "(tensor([[[ 0.7501,  0.7113,  0.7113,  ...,  0.6144,  0.5368,  0.5368],\n",
       "          [ 0.8276,  0.7888,  0.7888,  ...,  0.7501,  0.6725,  0.6338],\n",
       "          [ 0.9051,  0.8664,  0.8858,  ...,  0.8276,  0.7694,  0.7307],\n",
       "          ...,\n",
       "          [-0.0447, -0.1610, -0.2580,  ..., -0.1610, -0.5875, -0.1029],\n",
       "          [-0.1029, -0.1804, -0.2580,  ...,  0.0134, -0.1029, -0.1029],\n",
       "          [-0.0835, -0.1029, -0.1804,  ..., -0.0253, -0.0253, -0.1029]],\n",
       " \n",
       "         [[ 1.8101,  1.7511,  1.7511,  ...,  1.7118,  1.6724,  1.5741],\n",
       "          [ 1.8691,  1.8101,  1.8101,  ...,  1.7511,  1.6921,  1.6134],\n",
       "          [ 1.9085,  1.8495,  1.8691,  ...,  1.7511,  1.6724,  1.6528],\n",
       "          ...,\n",
       "          [ 0.7284,  0.6104,  0.5121,  ...,  0.2564, -0.1566,  0.5121],\n",
       "          [ 0.6498,  0.5514,  0.4728,  ...,  0.5121,  0.4138,  0.5711],\n",
       "          [ 0.6104,  0.5711,  0.4924,  ...,  0.5711,  0.6104,  0.6104]],\n",
       " \n",
       "         [[ 2.5391,  2.4611,  2.4611,  ...,  2.4025,  2.3635,  2.3440],\n",
       "          [ 2.5586,  2.5001,  2.5001,  ...,  2.4221,  2.3830,  2.3635],\n",
       "          [ 2.5781,  2.5196,  2.5391,  ...,  2.4221,  2.3635,  2.3830],\n",
       "          ...,\n",
       "          [-0.1728, -0.2313, -0.2899,  ..., -0.2704, -0.6801, -0.2704],\n",
       "          [-0.2704, -0.2899, -0.3484,  ..., -0.0753, -0.2118, -0.2509],\n",
       "          [-0.3484, -0.2899, -0.3289,  ..., -0.1143, -0.1338, -0.2704]]]),\n",
       " 7)"
      ]
     },
     "execution_count": 84,
     "metadata": {},
     "output_type": "execute_result"
    }
   ],
   "execution_count": 84
  },
  {
   "metadata": {
    "ExecuteTime": {
     "end_time": "2025-05-31T05:16:48.693695Z",
     "start_time": "2025-05-31T05:16:48.663706Z"
    }
   },
   "cell_type": "code",
   "source": "train_set.classes",
   "id": "cc3d087f55879fcc",
   "outputs": [
    {
     "data": {
      "text/plain": [
       "['airplane',\n",
       " 'automobile',\n",
       " 'bird',\n",
       " 'cat',\n",
       " 'deer',\n",
       " 'dog',\n",
       " 'frog',\n",
       " 'horse',\n",
       " 'ship',\n",
       " 'truck']"
      ]
     },
     "execution_count": 85,
     "metadata": {},
     "output_type": "execute_result"
    }
   ],
   "execution_count": 85
  },
  {
   "metadata": {
    "ExecuteTime": {
     "end_time": "2025-05-31T05:16:48.733619Z",
     "start_time": "2025-05-31T05:16:48.723602Z"
    }
   },
   "cell_type": "code",
   "source": "train_set.class_to_idx",
   "id": "4366702000a86cc1",
   "outputs": [
    {
     "data": {
      "text/plain": [
       "{'airplane': 0,\n",
       " 'automobile': 1,\n",
       " 'bird': 2,\n",
       " 'cat': 3,\n",
       " 'deer': 4,\n",
       " 'dog': 5,\n",
       " 'frog': 6,\n",
       " 'horse': 7,\n",
       " 'ship': 8,\n",
       " 'truck': 9}"
      ]
     },
     "execution_count": 86,
     "metadata": {},
     "output_type": "execute_result"
    }
   ],
   "execution_count": 86
  },
  {
   "metadata": {
    "ExecuteTime": {
     "end_time": "2025-05-31T05:16:48.773454Z",
     "start_time": "2025-05-31T05:16:48.763320Z"
    }
   },
   "cell_type": "code",
   "source": "test_set",
   "id": "2d0a7df9020b749d",
   "outputs": [
    {
     "data": {
      "text/plain": [
       "Dataset CIFAR10\n",
       "    Number of datapoints: 10000\n",
       "    Root location: cifar10\n",
       "    Split: Test\n",
       "    StandardTransform\n",
       "Transform: Compose(\n",
       "               ToTensor()\n",
       "               Normalize(mean=[0.4914, 0.4822, 0.4465], std=[0.2023, 0.1994, 0.201])\n",
       "           )"
      ]
     },
     "execution_count": 87,
     "metadata": {},
     "output_type": "execute_result"
    }
   ],
   "execution_count": 87
  },
  {
   "metadata": {
    "ExecuteTime": {
     "end_time": "2025-05-31T05:16:48.863750Z",
     "start_time": "2025-05-31T05:16:48.813676Z"
    }
   },
   "cell_type": "code",
   "source": [
    "train_loader = DataLoader(train_set, batch_size=64, shuffle=True)\n",
    "test_loader = DataLoader(test_set, batch_size=128, shuffle=False)"
   ],
   "id": "b73283ee9f740b4",
   "outputs": [],
   "execution_count": 88
  },
  {
   "metadata": {
    "ExecuteTime": {
     "end_time": "2025-05-31T05:17:31.668183Z",
     "start_time": "2025-05-31T05:17:31.603865Z"
    }
   },
   "cell_type": "code",
   "source": [
    "x, y = next(iter(train_loader))\n",
    "print(x.shape, y.shape)"
   ],
   "id": "c5941414d21e34ca",
   "outputs": [
    {
     "name": "stdout",
     "output_type": "stream",
     "text": [
      "torch.Size([64, 3, 32, 32]) torch.Size([64])\n"
     ]
    }
   ],
   "execution_count": 90
  },
  {
   "metadata": {},
   "cell_type": "code",
   "outputs": [],
   "execution_count": null,
   "source": "",
   "id": "ffd607ee6e93abb"
  }
 ],
 "metadata": {
  "kernelspec": {
   "display_name": "Python 3",
   "language": "python",
   "name": "python3"
  },
  "language_info": {
   "codemirror_mode": {
    "name": "ipython",
    "version": 2
   },
   "file_extension": ".py",
   "mimetype": "text/x-python",
   "name": "python",
   "nbconvert_exporter": "python",
   "pygments_lexer": "ipython2",
   "version": "2.7.6"
  }
 },
 "nbformat": 4,
 "nbformat_minor": 5
}
