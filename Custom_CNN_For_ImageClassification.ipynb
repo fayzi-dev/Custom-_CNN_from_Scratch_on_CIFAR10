{
 "cells": [
  {
   "metadata": {},
   "cell_type": "raw",
   "source": "# Imports",
   "id": "60d526db36bacc5e"
  },
  {
   "metadata": {},
   "cell_type": "code",
   "source": [
    "import torch\n",
    "import torch.nn as nn\n",
    "import torch.optim as optim\n",
    "import torch.nn.functional as F\n",
    "from torch.utils.data import TensorDataset, DataLoader, random_split\n",
    "import torch.backends.cudnn as cudnn\n",
    "\n",
    "import torchvision\n",
    "from torchvision import transforms as T\n",
    "from torchvision.datasets import CIFAR10\n",
    "\n",
    "from sklearn.model_selection import train_test_split\n",
    "import matplotlib.pyplot as plt\n",
    "import numpy as np\n",
    "\n",
    "from torchmetrics import Accuracy\n",
    "from tqdm import tqdm"
   ],
   "id": "e7675eae9e50227b",
   "outputs": [],
   "execution_count": null
  },
  {
   "metadata": {},
   "cell_type": "code",
   "source": [
    "transform_train = T.Compose([\n",
    "    T.RandomCrop(size=32, padding=4),\n",
    "    T.RandomHorizontalFlip(),\n",
    "    T.ToTensor(),\n",
    "    T.Normalize(mean=[0.4914, 0.4822, 0.4465], std=[0.2023, 0.1994, 0.2010]),\n",
    "\n",
    "])\n",
    "transform_test = T.Compose([\n",
    "    T.ToTensor(),\n",
    "    T.Normalize(mean=[0.4914, 0.4822, 0.4465], std=[0.2023, 0.1994, 0.2010]),\n",
    "])\n"
   ],
   "id": "6d3ae6558642c319",
   "outputs": [],
   "execution_count": null
  },
  {
   "metadata": {},
   "cell_type": "code",
   "source": [
    "train_set = CIFAR10(root='cifar10',\n",
    "                    train=True,\n",
    "                    download=True,\n",
    "                    transform=transform_train)"
   ],
   "id": "f1ff74c2973e0a71",
   "outputs": [],
   "execution_count": null
  },
  {
   "metadata": {},
   "cell_type": "code",
   "source": [
    "test_set = CIFAR10(root='cifar10',\n",
    "                   train=False,\n",
    "                   download=True,\n",
    "                   transform=transform_test)"
   ],
   "id": "eb80573bdee9874d",
   "outputs": [],
   "execution_count": null
  },
  {
   "metadata": {},
   "cell_type": "code",
   "source": "train_set",
   "id": "8174763bbe1566d0",
   "outputs": [],
   "execution_count": null
  },
  {
   "metadata": {},
   "cell_type": "code",
   "source": "train_set[12][0]",
   "id": "f126f92c6ccf2197",
   "outputs": [],
   "execution_count": null
  },
  {
   "metadata": {},
   "cell_type": "code",
   "source": "train_set[12]",
   "id": "d79228901e8c5f5",
   "outputs": [],
   "execution_count": null
  },
  {
   "metadata": {},
   "cell_type": "code",
   "source": "train_set.classes",
   "id": "cc3d087f55879fcc",
   "outputs": [],
   "execution_count": null
  },
  {
   "metadata": {},
   "cell_type": "code",
   "source": "train_set.class_to_idx",
   "id": "4366702000a86cc1",
   "outputs": [],
   "execution_count": null
  },
  {
   "metadata": {},
   "cell_type": "code",
   "source": "test_set",
   "id": "2d0a7df9020b749d",
   "outputs": [],
   "execution_count": null
  },
  {
   "metadata": {},
   "cell_type": "code",
   "source": [
    "train_loader = DataLoader(train_set, batch_size=64, shuffle=True)\n",
    "test_loader = DataLoader(test_set, batch_size=128, shuffle=False)"
   ],
   "id": "b73283ee9f740b4",
   "outputs": [],
   "execution_count": null
  },
  {
   "metadata": {},
   "cell_type": "code",
   "source": [
    "x, y = next(iter(train_loader))\n",
    "print(x.shape, y.shape)"
   ],
   "id": "c5941414d21e34ca",
   "outputs": [],
   "execution_count": null
  },
  {
   "metadata": {},
   "cell_type": "code",
   "source": [
    "def conv3x3_bn_af(in_channels, out_channels):\n",
    "    module = nn.Sequential(\n",
    "        nn.Conv2d(in_channels, out_channels, kernel_size=3, padding=1),\n",
    "        nn.BatchNorm2d(out_channels),\n",
    "        nn.ReLU())\n",
    "    return module\n"
   ],
   "id": "a34e41f5ab6832d0",
   "outputs": [],
   "execution_count": null
  },
  {
   "metadata": {},
   "cell_type": "code",
   "source": [
    "def CNN():\n",
    "    network = nn.Sequential(\n",
    "        conv3x3_bn_af(3, 64),\n",
    "        conv3x3_bn_af(64, 64),\n",
    "        nn.MaxPool2d(kernel_size=2, stride=2),\n",
    "\n",
    "        conv3x3_bn_af(64, 128),\n",
    "        conv3x3_bn_af(128, 128),\n",
    "        nn.MaxPool2d(kernel_size=2, stride=2),\n",
    "\n",
    "        conv3x3_bn_af(128, 256),\n",
    "        conv3x3_bn_af(256, 256),\n",
    "        nn.MaxPool2d(kernel_size=2, stride=2),\n",
    "\n",
    "        conv3x3_bn_af(256, 512),\n",
    "        conv3x3_bn_af(512, 512),\n",
    "        nn.MaxPool2d(kernel_size=2, stride=2),\n",
    "        nn.AdaptiveAvgPool2d(output_size=(1, 1)),\n",
    "\n",
    "        nn.Flatten(),\n",
    "        nn.Linear(512, 10),  # classifier\n",
    "    )\n",
    "    return network"
   ],
   "id": "89598e29bfd3222",
   "outputs": [],
   "execution_count": null
  },
  {
   "metadata": {},
   "cell_type": "code",
   "source": [
    "# model(next(iter(train_loader)))\n",
    "model = CNN()"
   ],
   "id": "14d77b1105c0ea2c",
   "outputs": [],
   "execution_count": null
  },
  {
   "metadata": {},
   "cell_type": "code",
   "source": "model[0][0].weight.shape",
   "id": "9e5fc8a75dadc8b1",
   "outputs": [],
   "execution_count": null
  },
  {
   "metadata": {},
   "cell_type": "code",
   "source": "model[0][0].bias.shape",
   "id": "e0cd9cd11843337b",
   "outputs": [],
   "execution_count": null
  },
  {
   "metadata": {},
   "cell_type": "code",
   "source": [
    "def num_params(model):\n",
    "    nums = sum(p.numel() for p in model.parameters()) / 1e6\n",
    "    return nums"
   ],
   "id": "d59f88105e8177b3",
   "outputs": [],
   "execution_count": null
  },
  {
   "metadata": {},
   "cell_type": "code",
   "source": "num_params(model)",
   "id": "81da5c7cc91b57d7",
   "outputs": [],
   "execution_count": null
  },
  {
   "metadata": {},
   "cell_type": "code",
   "source": [
    "device = torch.device(\"cuda:0\" if torch.cuda.is_available() else \"cpu\")\n",
    "model = CNN().to(device)"
   ],
   "id": "f4246b650f488341",
   "outputs": [],
   "execution_count": null
  },
  {
   "metadata": {},
   "cell_type": "code",
   "source": [
    "loss_fn = nn.CrossEntropyLoss()\n",
    "optimizer = optim.SGD(model.parameters(), lr=0.01, weight_decay=1e-4)"
   ],
   "id": "34b2305d4e550f86",
   "outputs": [],
   "execution_count": null
  },
  {
   "metadata": {},
   "cell_type": "code",
   "source": [
    "class AverageMeter(object):\n",
    "    def __init__(self):\n",
    "        self.reset()\n",
    "\n",
    "    def reset(self):\n",
    "        self.val = 0\n",
    "        self.avg = 0\n",
    "        self.sum = 0\n",
    "        self.count = 0\n",
    "\n",
    "    def update(self, val, n=1):\n",
    "        self.val = val\n",
    "        self.sum += val * n\n",
    "        self.count += n\n",
    "        self.avg = self.sum / self.count\n"
   ],
   "id": "9d788d04546b82ee",
   "outputs": [],
   "execution_count": null
  },
  {
   "metadata": {},
   "cell_type": "code",
   "source": [
    "def train_one_epoch(model, train_loader, loss_fn, optimizer, epoch=None):\n",
    "    model.train()\n",
    "    loss_train = AverageMeter()\n",
    "    acc_train = Accuracy(task='multiclass', num_classes=10).to(device)\n",
    "    with tqdm(train_loader, unit='batch') as pbar:\n",
    "        for x_batch, y_batch in pbar:\n",
    "            if epoch is not None:\n",
    "                pbar.set_description(f'Epoch {epoch}')\n",
    "            x_batch = x_batch.to(device)\n",
    "            y_batch = y_batch.to(device)\n",
    "            yp = model(x_batch)\n",
    "            loss = loss_fn(yp, y_batch).to(device)\n",
    "            loss.backward()\n",
    "            optimizer.step()\n",
    "            optimizer.zero_grad()\n",
    "            loss_train.update(loss.item())\n",
    "            acc_train(yp, y_batch).to(device)\n",
    "            pbar.set_postfix(loss=loss_train.avg, accuracy=100. * acc_train.compute().item())\n",
    "    return model, loss_train.avg, acc_train.compute().item()\n"
   ],
   "id": "81de6d89f2870b98",
   "outputs": [],
   "execution_count": null
  },
  {
   "metadata": {},
   "cell_type": "code",
   "source": [
    "def evaluate(model, valid_loader, loss_fn):\n",
    "    model.eval()\n",
    "    with torch.no_grad():\n",
    "        loss_valid = AverageMeter()\n",
    "        acc_valid = Accuracy(task='multiclass', num_classes=10).to(device)\n",
    "        for i, (x_batch, y_batch) in enumerate(valid_loader):\n",
    "            x_batch = x_batch.to(device)\n",
    "            y_batch = y_batch.to(device)\n",
    "            yp = model(x_batch)\n",
    "            loss = loss_fn(yp, y_batch).to(device)\n",
    "            loss_valid.update(loss.item())\n",
    "            acc_valid(yp, y_batch).to(device)\n",
    "    return loss_valid.avg, acc_valid.compute().item()\n"
   ],
   "id": "8046ada8aa5d6301",
   "outputs": [],
   "execution_count": null
  },
  {
   "metadata": {},
   "cell_type": "code",
   "source": [
    "x_batch, y_batch = next(iter(train_loader))\n",
    "outputs = model(x_batch.to(device))\n",
    "loss = loss_fn(outputs, y_batch.to(device))\n",
    "print(loss)"
   ],
   "id": "e7af06649547700f",
   "outputs": [],
   "execution_count": null
  },
  {
   "metadata": {},
   "cell_type": "code",
   "source": [
    "_, mini_train_dataset = random_split(train_set, (len(train_set) - 100, 100))\n",
    "mini_train_loader = DataLoader(mini_train_dataset, batch_size=50, shuffle=True)"
   ],
   "id": "e822a3ea8619b4d8",
   "outputs": [],
   "execution_count": null
  },
  {
   "metadata": {},
   "cell_type": "code",
   "source": [
    "num_epochs = 10\n",
    "for epoch in range(num_epochs):\n",
    "    model, _, _ = train_one_epoch(model, mini_train_loader, loss_fn, optimizer, epoch)"
   ],
   "id": "7c067635aa94ad58",
   "outputs": [],
   "execution_count": null
  },
  {
   "metadata": {},
   "cell_type": "code",
   "source": [
    "# select best Lr\n",
    "num_epochs = 5\n",
    "for lr in [0.1, 0.01, 0.001]:\n",
    "    print(f'Learning rate: {lr}')\n",
    "    model = CNN().to(device)\n",
    "    optimizer = optim.SGD(model.parameters(), lr=lr, weight_decay=1e-4)\n",
    "    for epoch in range(num_epochs):\n",
    "        model, _, _ = train_one_epoch(model, train_loader, loss_fn, optimizer, epoch)\n",
    "        print()"
   ],
   "id": "b1176188b28abee8",
   "outputs": [],
   "execution_count": null
  },
  {
   "metadata": {},
   "cell_type": "code",
   "source": [
    "#Create small grid based on the \"weight_decay\" and the \"Learning rate\"\n",
    "num_epochs = 5\n",
    "for lr in [0.08, 0.09, 0.1, 0.15, 0.2]:\n",
    "    for wd in [1e-4, 1e-5, 0.]:\n",
    "        model = CNN().to(device)\n",
    "        optimizer = optim.SGD(model.parameters(), lr=lr, weight_decay=wd)\n",
    "        print(f'Learning rate: {lr}, Weight decay: {wd}')\n",
    "        for epoch in range(num_epochs):\n",
    "            model, loss, _ = train_one_epoch(model, train_loader, loss_fn, optimizer, epoch)\n",
    "        print()\n"
   ],
   "id": "482a24034af974f",
   "outputs": [],
   "execution_count": null
  },
  {
   "metadata": {
    "ExecuteTime": {
     "end_time": "2025-06-01T03:43:06.733864Z",
     "start_time": "2025-06-01T03:43:06.663171Z"
    }
   },
   "cell_type": "code",
   "source": [
    "# train the more epochs\n",
    "model = CNN().to(device)"
   ],
   "id": "42bbd9b3147887e3",
   "outputs": [],
   "execution_count": 442
  },
  {
   "metadata": {
    "ExecuteTime": {
     "end_time": "2025-06-01T03:43:09.356503Z",
     "start_time": "2025-06-01T03:43:09.330854Z"
    }
   },
   "cell_type": "code",
   "source": [
    "lr = 0.01\n",
    "wd = 1e-4\n",
    "optimizer = optim.SGD(model.parameters(), lr=lr, weight_decay=1e-4)"
   ],
   "id": "902a65d9d7810b7c",
   "outputs": [],
   "execution_count": 443
  },
  {
   "metadata": {
    "ExecuteTime": {
     "end_time": "2025-06-01T03:43:12.106221Z",
     "start_time": "2025-06-01T03:43:12.090571Z"
    }
   },
   "cell_type": "code",
   "source": [
    "loss_train_history = []\n",
    "acc_train_history = []\n",
    "\n",
    "loss_val_history = []\n",
    "acc_val_history = []\n",
    "best_loss_val = torch.inf\n",
    "epoch_counter = 0"
   ],
   "id": "ed03e939b3ffa60b",
   "outputs": [],
   "execution_count": 444
  },
  {
   "metadata": {
    "ExecuteTime": {
     "end_time": "2025-06-01T03:52:31.008578Z",
     "start_time": "2025-06-01T03:43:14.988820Z"
    }
   },
   "cell_type": "code",
   "source": [
    "num_epochs = 5\n",
    "for epoch in range(num_epochs):\n",
    "    # train\n",
    "    model, loss_train, acc_train = train_one_epoch(model, train_loader, loss_fn, optimizer, epoch)\n",
    "\n",
    "    # validation\n",
    "    loss_valid, acc_valid = evaluate(model, test_loader, loss_fn)\n",
    "\n",
    "    loss_train_history.append(loss_train)\n",
    "    acc_train_history.append(acc_train)\n",
    "    loss_val_history.append(loss_valid)\n",
    "    acc_val_history.append(acc_valid)\n",
    "\n",
    "    if loss_valid < best_loss_val:\n",
    "        torch.save(model, f'model.pt')\n",
    "        best_loss_val = loss_valid\n",
    "    print(f'Validation: Loss={loss_valid:.4}, Accuracy={acc_valid:.4}')\n",
    "    print()\n",
    "\n",
    "    epoch_counter += 1"
   ],
   "id": "360faefc286d7a3c",
   "outputs": [
    {
     "name": "stderr",
     "output_type": "stream",
     "text": [
      "Epoch 0: 100%|██████████| 782/782 [01:44<00:00,  7.47batch/s, accuracy=51.4, loss=1.33]\n"
     ]
    },
    {
     "name": "stdout",
     "output_type": "stream",
     "text": [
      "Validation: Loss=1.854, Accuracy=0.4497\n",
      "\n"
     ]
    },
    {
     "name": "stderr",
     "output_type": "stream",
     "text": [
      "Epoch 1: 100%|██████████| 782/782 [01:41<00:00,  7.69batch/s, accuracy=67.6, loss=0.908]\n"
     ]
    },
    {
     "name": "stdout",
     "output_type": "stream",
     "text": [
      "Validation: Loss=0.9569, Accuracy=0.6644\n",
      "\n"
     ]
    },
    {
     "name": "stderr",
     "output_type": "stream",
     "text": [
      "Epoch 2: 100%|██████████| 782/782 [01:44<00:00,  7.48batch/s, accuracy=74.1, loss=0.74] \n"
     ]
    },
    {
     "name": "stdout",
     "output_type": "stream",
     "text": [
      "Validation: Loss=1.148, Accuracy=0.6311\n",
      "\n"
     ]
    },
    {
     "name": "stderr",
     "output_type": "stream",
     "text": [
      "Epoch 3: 100%|██████████| 782/782 [01:42<00:00,  7.63batch/s, accuracy=77.8, loss=0.638]\n"
     ]
    },
    {
     "name": "stdout",
     "output_type": "stream",
     "text": [
      "Validation: Loss=1.007, Accuracy=0.6724\n",
      "\n"
     ]
    },
    {
     "name": "stderr",
     "output_type": "stream",
     "text": [
      "Epoch 4: 100%|██████████| 782/782 [01:46<00:00,  7.33batch/s, accuracy=80, loss=0.575]  \n"
     ]
    },
    {
     "name": "stdout",
     "output_type": "stream",
     "text": [
      "Validation: Loss=0.8971, Accuracy=0.7121\n",
      "\n"
     ]
    }
   ],
   "execution_count": 445
  },
  {
   "metadata": {
    "ExecuteTime": {
     "end_time": "2025-06-01T03:52:40.378687Z",
     "start_time": "2025-06-01T03:52:40.139051Z"
    }
   },
   "cell_type": "code",
   "source": [
    "plt.plot(range(epoch_counter), loss_train_history, 'r-', label='Training Loss')\n",
    "plt.plot(range(epoch_counter), loss_val_history, 'b-', label='Validation Loss')\n",
    "plt.xlabel('Epoch')\n",
    "plt.ylabel('Loss')\n",
    "plt.grid(True)\n",
    "plt.legend()\n",
    "plt.show()"
   ],
   "id": "4185c5c115e30ec6",
   "outputs": [
    {
     "data": {
      "text/plain": [
       "<Figure size 640x480 with 1 Axes>"
      ],
      "image/png": "[encoded data removed]"
     },
     "metadata": {},
     "output_type": "display_data"
    }
   ],
   "execution_count": 446
  },
  {
   "metadata": {
    "ExecuteTime": {
     "end_time": "2025-06-01T03:52:43.998825Z",
     "start_time": "2025-06-01T03:52:43.778840Z"
    }
   },
   "cell_type": "code",
   "source": [
    "plt.plot(range(epoch_counter), acc_train_history, 'r-', label='Training Accuracy')\n",
    "plt.plot(range(epoch_counter), acc_val_history, 'b-', label='Validation Accuracy')\n",
    "plt.xlabel('Epoch')\n",
    "plt.ylabel('Accuracy')\n",
    "plt.grid(True)\n",
    "plt.legend()\n",
    "plt.show()"
   ],
   "id": "b76889c1044cc693",
   "outputs": [
    {
     "data": {
      "text/plain": [
       "<Figure size 640x480 with 1 Axes>"
      ],
      "image/png": "[encoded data removed]"
     },
     "metadata": {},
     "output_type": "display_data"
    }
   ],
   "execution_count": 447
  }
 ],
 "metadata": {
  "kernelspec": {
   "display_name": "Python 3",
   "language": "python",
   "name": "python3"
  },
  "language_info": {
   "codemirror_mode": {
    "name": "ipython",
    "version": 2
   },
   "file_extension": ".py",
   "mimetype": "text/x-python",
   "name": "python",
   "nbconvert_exporter": "python",
   "pygments_lexer": "ipython2",
   "version": "2.7.6"
  }
 },
 "nbformat": 4,
 "nbformat_minor": 5
}
